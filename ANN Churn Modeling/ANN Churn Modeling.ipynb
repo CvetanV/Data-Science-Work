{
 "cells": [
  {
   "cell_type": "code",
   "execution_count": 1,
   "metadata": {},
   "outputs": [
    {
     "name": "stderr",
     "output_type": "stream",
     "text": [
      "Using TensorFlow backend.\n"
     ]
    }
   ],
   "source": [
    "#Import basic frameworks\n",
    "import numpy as np\n",
    "import pandas as pd\n",
    "import seaborn as sns\n",
    "import matplotlib.pyplot as plt\n",
    "\n",
    "#Feature Scaling\n",
    "from sklearn.preprocessing import StandardScaler\n",
    "\n",
    "#Import model selection\n",
    "from sklearn import model_selection\n",
    "from sklearn.model_selection import train_test_split,cross_validate\n",
    "\n",
    "#ANN frameworks\n",
    "import keras\n",
    "from tensorflow.keras.models import Sequential\n",
    "from tensorflow.keras.layers import Dense, Dropout, LeakyReLU, PReLU, ELU\n",
    "\n",
    "#Import measurement metrics\n",
    "from sklearn.metrics import confusion_matrix"
   ]
  },
  {
   "cell_type": "code",
   "execution_count": 2,
   "metadata": {},
   "outputs": [],
   "source": [
    "#Read CSV file\n",
    "data = pd.read_csv(r\"C:\\\\Users\\\\cvveljanovski\\\\Desktop\\\\Learning\\\\DataScience\\\\Datasets\\\\ANN\\\\Churn_Modelling.csv\")"
   ]
  },
  {
   "cell_type": "code",
   "execution_count": 3,
   "metadata": {},
   "outputs": [],
   "source": [
    "#We are going to drop the columns that we don't need\n",
    "data.drop([\"RowNumber\",\"CustomerId\", \"Surname\"],inplace=True,axis=1) "
   ]
  },
  {
   "cell_type": "code",
   "execution_count": 4,
   "metadata": {},
   "outputs": [
    {
     "data": {
      "text/html": [
       "<div>\n",
       "<style scoped>\n",
       "    .dataframe tbody tr th:only-of-type {\n",
       "        vertical-align: middle;\n",
       "    }\n",
       "\n",
       "    .dataframe tbody tr th {\n",
       "        vertical-align: top;\n",
       "    }\n",
       "\n",
       "    .dataframe thead th {\n",
       "        text-align: right;\n",
       "    }\n",
       "</style>\n",
       "<table border=\"1\" class=\"dataframe\">\n",
       "  <thead>\n",
       "    <tr style=\"text-align: right;\">\n",
       "      <th></th>\n",
       "      <th>CreditScore</th>\n",
       "      <th>Geography</th>\n",
       "      <th>Gender</th>\n",
       "      <th>Age</th>\n",
       "      <th>Tenure</th>\n",
       "      <th>Balance</th>\n",
       "      <th>NumOfProducts</th>\n",
       "      <th>HasCrCard</th>\n",
       "      <th>IsActiveMember</th>\n",
       "      <th>EstimatedSalary</th>\n",
       "      <th>Exited</th>\n",
       "    </tr>\n",
       "  </thead>\n",
       "  <tbody>\n",
       "    <tr>\n",
       "      <td>0</td>\n",
       "      <td>619</td>\n",
       "      <td>France</td>\n",
       "      <td>Female</td>\n",
       "      <td>42</td>\n",
       "      <td>2</td>\n",
       "      <td>0.00</td>\n",
       "      <td>1</td>\n",
       "      <td>1</td>\n",
       "      <td>1</td>\n",
       "      <td>101348.88</td>\n",
       "      <td>1</td>\n",
       "    </tr>\n",
       "    <tr>\n",
       "      <td>1</td>\n",
       "      <td>608</td>\n",
       "      <td>Spain</td>\n",
       "      <td>Female</td>\n",
       "      <td>41</td>\n",
       "      <td>1</td>\n",
       "      <td>83807.86</td>\n",
       "      <td>1</td>\n",
       "      <td>0</td>\n",
       "      <td>1</td>\n",
       "      <td>112542.58</td>\n",
       "      <td>0</td>\n",
       "    </tr>\n",
       "    <tr>\n",
       "      <td>2</td>\n",
       "      <td>502</td>\n",
       "      <td>France</td>\n",
       "      <td>Female</td>\n",
       "      <td>42</td>\n",
       "      <td>8</td>\n",
       "      <td>159660.80</td>\n",
       "      <td>3</td>\n",
       "      <td>1</td>\n",
       "      <td>0</td>\n",
       "      <td>113931.57</td>\n",
       "      <td>1</td>\n",
       "    </tr>\n",
       "    <tr>\n",
       "      <td>3</td>\n",
       "      <td>699</td>\n",
       "      <td>France</td>\n",
       "      <td>Female</td>\n",
       "      <td>39</td>\n",
       "      <td>1</td>\n",
       "      <td>0.00</td>\n",
       "      <td>2</td>\n",
       "      <td>0</td>\n",
       "      <td>0</td>\n",
       "      <td>93826.63</td>\n",
       "      <td>0</td>\n",
       "    </tr>\n",
       "    <tr>\n",
       "      <td>4</td>\n",
       "      <td>850</td>\n",
       "      <td>Spain</td>\n",
       "      <td>Female</td>\n",
       "      <td>43</td>\n",
       "      <td>2</td>\n",
       "      <td>125510.82</td>\n",
       "      <td>1</td>\n",
       "      <td>1</td>\n",
       "      <td>1</td>\n",
       "      <td>79084.10</td>\n",
       "      <td>0</td>\n",
       "    </tr>\n",
       "  </tbody>\n",
       "</table>\n",
       "</div>"
      ],
      "text/plain": [
       "   CreditScore Geography  Gender  Age  Tenure    Balance  NumOfProducts  \\\n",
       "0          619    France  Female   42       2       0.00              1   \n",
       "1          608     Spain  Female   41       1   83807.86              1   \n",
       "2          502    France  Female   42       8  159660.80              3   \n",
       "3          699    France  Female   39       1       0.00              2   \n",
       "4          850     Spain  Female   43       2  125510.82              1   \n",
       "\n",
       "   HasCrCard  IsActiveMember  EstimatedSalary  Exited  \n",
       "0          1               1        101348.88       1  \n",
       "1          0               1        112542.58       0  \n",
       "2          1               0        113931.57       1  \n",
       "3          0               0         93826.63       0  \n",
       "4          1               1         79084.10       0  "
      ]
     },
     "execution_count": 4,
     "metadata": {},
     "output_type": "execute_result"
    }
   ],
   "source": [
    "data.head()"
   ]
  },
  {
   "cell_type": "markdown",
   "metadata": {},
   "source": [
    "# EDA"
   ]
  },
  {
   "cell_type": "code",
   "execution_count": 5,
   "metadata": {},
   "outputs": [
    {
     "name": "stderr",
     "output_type": "stream",
     "text": [
      "C:\\Users\\cvveljanovski\\AppData\\Local\\Continuum\\anaconda3\\lib\\site-packages\\seaborn\\categorical.py:3704: UserWarning: The `factorplot` function has been renamed to `catplot`. The original name will be removed in a future release. Please update your code. Note that the default `kind` in `factorplot` (`'point'`) has changed `'strip'` in `catplot`.\n",
      "  warnings.warn(msg)\n",
      "C:\\Users\\cvveljanovski\\AppData\\Local\\Continuum\\anaconda3\\lib\\site-packages\\seaborn\\categorical.py:3710: UserWarning: The `size` parameter has been renamed to `height`; please update your code.\n",
      "  warnings.warn(msg, UserWarning)\n"
     ]
    },
    {
     "data": {
      "text/plain": [
       "<seaborn.axisgrid.FacetGrid at 0x260999ec160>"
      ]
     },
     "execution_count": 5,
     "metadata": {},
     "output_type": "execute_result"
    },
    {
     "data": {
      "image/png": "[encoded data removed]",
      "text/plain": [
       "<Figure size 432x144 with 1 Axes>"
      ]
     },
     "metadata": {
      "needs_background": "light"
     },
     "output_type": "display_data"
    }
   ],
   "source": [
    "# Distribution of customers by Geography\n",
    "sns.factorplot(y=\"Geography\", data = data, kind = \"count\", size = 2, aspect = 3)"
   ]
  },
  {
   "cell_type": "markdown",
   "metadata": {},
   "source": [
    "#### Many customers are from France"
   ]
  },
  {
   "cell_type": "code",
   "execution_count": 6,
   "metadata": {},
   "outputs": [
    {
     "name": "stderr",
     "output_type": "stream",
     "text": [
      "C:\\Users\\cvveljanovski\\AppData\\Local\\Continuum\\anaconda3\\lib\\site-packages\\seaborn\\categorical.py:3704: UserWarning: The `factorplot` function has been renamed to `catplot`. The original name will be removed in a future release. Please update your code. Note that the default `kind` in `factorplot` (`'point'`) has changed `'strip'` in `catplot`.\n",
      "  warnings.warn(msg)\n",
      "C:\\Users\\cvveljanovski\\AppData\\Local\\Continuum\\anaconda3\\lib\\site-packages\\seaborn\\categorical.py:3710: UserWarning: The `size` parameter has been renamed to `height`; please update your code.\n",
      "  warnings.warn(msg, UserWarning)\n"
     ]
    },
    {
     "data": {
      "text/plain": [
       "<seaborn.axisgrid.FacetGrid at 0x260aca1ba58>"
      ]
     },
     "execution_count": 6,
     "metadata": {},
     "output_type": "execute_result"
    },
    {
     "data": {
      "image/png": "[encoded data removed]",
      "text/plain": [
       "<Figure size 432x144 with 1 Axes>"
      ]
     },
     "metadata": {
      "needs_background": "light"
     },
     "output_type": "display_data"
    }
   ],
   "source": [
    "# Distribution of customers by Gender\n",
    "sns.factorplot(y=\"Gender\", data = data, kind = \"count\", size = 2, aspect = 3)"
   ]
  },
  {
   "cell_type": "code",
   "execution_count": 7,
   "metadata": {},
   "outputs": [
    {
     "name": "stderr",
     "output_type": "stream",
     "text": [
      "C:\\Users\\cvveljanovski\\AppData\\Local\\Continuum\\anaconda3\\lib\\site-packages\\seaborn\\categorical.py:3704: UserWarning: The `factorplot` function has been renamed to `catplot`. The original name will be removed in a future release. Please update your code. Note that the default `kind` in `factorplot` (`'point'`) has changed `'strip'` in `catplot`.\n",
      "  warnings.warn(msg)\n",
      "C:\\Users\\cvveljanovski\\AppData\\Local\\Continuum\\anaconda3\\lib\\site-packages\\seaborn\\categorical.py:3710: UserWarning: The `size` parameter has been renamed to `height`; please update your code.\n",
      "  warnings.warn(msg, UserWarning)\n"
     ]
    },
    {
     "data": {
      "text/plain": [
       "<seaborn.axisgrid.FacetGrid at 0x260ada104a8>"
      ]
     },
     "execution_count": 7,
     "metadata": {},
     "output_type": "execute_result"
    },
    {
     "data": {
      "image/png": "[encoded data removed]",
      "text/plain": [
       "<Figure size 1080x720 with 1 Axes>"
      ]
     },
     "metadata": {
      "needs_background": "light"
     },
     "output_type": "display_data"
    }
   ],
   "source": [
    "# Distribution of customers by Age\n",
    "sns.factorplot(y=\"Age\", data = data, kind = \"count\", size = 10, aspect = 1.5)"
   ]
  },
  {
   "cell_type": "code",
   "execution_count": 8,
   "metadata": {},
   "outputs": [
    {
     "data": {
      "image/png": "[encoded data removed]",
      "text/plain": [
       "<Figure size 360x360 with 1 Axes>"
      ]
     },
     "metadata": {
      "needs_background": "light"
     },
     "output_type": "display_data"
    }
   ],
   "source": [
    "sns.boxplot(data=data[[\"Age\"]])\n",
    "fig=plt.gcf()\n",
    "fig.set_size_inches(5,5)"
   ]
  },
  {
   "cell_type": "markdown",
   "metadata": {},
   "source": [
    "#### As expected we have the most number of customers between 27 and 46"
   ]
  },
  {
   "cell_type": "code",
   "execution_count": 9,
   "metadata": {},
   "outputs": [
    {
     "name": "stderr",
     "output_type": "stream",
     "text": [
      "C:\\Users\\cvveljanovski\\AppData\\Local\\Continuum\\anaconda3\\lib\\site-packages\\seaborn\\categorical.py:3704: UserWarning: The `factorplot` function has been renamed to `catplot`. The original name will be removed in a future release. Please update your code. Note that the default `kind` in `factorplot` (`'point'`) has changed `'strip'` in `catplot`.\n",
      "  warnings.warn(msg)\n",
      "C:\\Users\\cvveljanovski\\AppData\\Local\\Continuum\\anaconda3\\lib\\site-packages\\seaborn\\categorical.py:3710: UserWarning: The `size` parameter has been renamed to `height`; please update your code.\n",
      "  warnings.warn(msg, UserWarning)\n"
     ]
    },
    {
     "data": {
      "text/plain": [
       "<seaborn.axisgrid.FacetGrid at 0x260ae010e80>"
      ]
     },
     "execution_count": 9,
     "metadata": {},
     "output_type": "execute_result"
    },
    {
     "data": {
      "image/png": "[encoded data removed]",
      "text/plain": [
       "<Figure size 432x216 with 1 Axes>"
      ]
     },
     "metadata": {
      "needs_background": "light"
     },
     "output_type": "display_data"
    }
   ],
   "source": [
    "# Distribution of customers by Tenure\n",
    "sns.factorplot(y=\"Tenure\", data = data, kind = \"count\", size = 3, aspect = 2)"
   ]
  },
  {
   "cell_type": "code",
   "execution_count": 10,
   "metadata": {},
   "outputs": [
    {
     "name": "stderr",
     "output_type": "stream",
     "text": [
      "C:\\Users\\cvveljanovski\\AppData\\Local\\Continuum\\anaconda3\\lib\\site-packages\\seaborn\\categorical.py:3704: UserWarning: The `factorplot` function has been renamed to `catplot`. The original name will be removed in a future release. Please update your code. Note that the default `kind` in `factorplot` (`'point'`) has changed `'strip'` in `catplot`.\n",
      "  warnings.warn(msg)\n",
      "C:\\Users\\cvveljanovski\\AppData\\Local\\Continuum\\anaconda3\\lib\\site-packages\\seaborn\\categorical.py:3710: UserWarning: The `size` parameter has been renamed to `height`; please update your code.\n",
      "  warnings.warn(msg, UserWarning)\n"
     ]
    },
    {
     "data": {
      "text/plain": [
       "<seaborn.axisgrid.FacetGrid at 0x260ae00ca90>"
      ]
     },
     "execution_count": 10,
     "metadata": {},
     "output_type": "execute_result"
    },
    {
     "data": {
      "image/png": "[encoded data removed]",
      "text/plain": [
       "<Figure size 432x144 with 1 Axes>"
      ]
     },
     "metadata": {
      "needs_background": "light"
     },
     "output_type": "display_data"
    }
   ],
   "source": [
    "# Distribution of customers by Num of product\n",
    "sns.factorplot(y=\"NumOfProducts\", data = data, kind = \"count\", size = 2, aspect = 3)"
   ]
  },
  {
   "cell_type": "markdown",
   "metadata": {},
   "source": [
    "#### We can see that the customers use mostly 1 or 2 product from the bank"
   ]
  },
  {
   "cell_type": "code",
   "execution_count": 11,
   "metadata": {},
   "outputs": [
    {
     "name": "stderr",
     "output_type": "stream",
     "text": [
      "C:\\Users\\cvveljanovski\\AppData\\Local\\Continuum\\anaconda3\\lib\\site-packages\\seaborn\\categorical.py:3704: UserWarning: The `factorplot` function has been renamed to `catplot`. The original name will be removed in a future release. Please update your code. Note that the default `kind` in `factorplot` (`'point'`) has changed `'strip'` in `catplot`.\n",
      "  warnings.warn(msg)\n",
      "C:\\Users\\cvveljanovski\\AppData\\Local\\Continuum\\anaconda3\\lib\\site-packages\\seaborn\\categorical.py:3710: UserWarning: The `size` parameter has been renamed to `height`; please update your code.\n",
      "  warnings.warn(msg, UserWarning)\n"
     ]
    },
    {
     "data": {
      "text/plain": [
       "<seaborn.axisgrid.FacetGrid at 0x260adc83860>"
      ]
     },
     "execution_count": 11,
     "metadata": {},
     "output_type": "execute_result"
    },
    {
     "data": {
      "image/png": "[encoded data removed]",
      "text/plain": [
       "<Figure size 432x144 with 1 Axes>"
      ]
     },
     "metadata": {
      "needs_background": "light"
     },
     "output_type": "display_data"
    }
   ],
   "source": [
    "# Distribution of customers by Has Credit card\n",
    "sns.factorplot(y=\"HasCrCard\", data = data, kind = \"count\", size = 2, aspect = 3)"
   ]
  },
  {
   "cell_type": "code",
   "execution_count": 12,
   "metadata": {},
   "outputs": [
    {
     "name": "stderr",
     "output_type": "stream",
     "text": [
      "C:\\Users\\cvveljanovski\\AppData\\Local\\Continuum\\anaconda3\\lib\\site-packages\\seaborn\\categorical.py:3704: UserWarning: The `factorplot` function has been renamed to `catplot`. The original name will be removed in a future release. Please update your code. Note that the default `kind` in `factorplot` (`'point'`) has changed `'strip'` in `catplot`.\n",
      "  warnings.warn(msg)\n",
      "C:\\Users\\cvveljanovski\\AppData\\Local\\Continuum\\anaconda3\\lib\\site-packages\\seaborn\\categorical.py:3710: UserWarning: The `size` parameter has been renamed to `height`; please update your code.\n",
      "  warnings.warn(msg, UserWarning)\n"
     ]
    },
    {
     "data": {
      "text/plain": [
       "<seaborn.axisgrid.FacetGrid at 0x2609990bc50>"
      ]
     },
     "execution_count": 12,
     "metadata": {},
     "output_type": "execute_result"
    },
    {
     "data": {
      "image/png": "[encoded data removed]",
      "text/plain": [
       "<Figure size 432x144 with 1 Axes>"
      ]
     },
     "metadata": {
      "needs_background": "light"
     },
     "output_type": "display_data"
    }
   ],
   "source": [
    "# Distribution of customers by Is Active Member\n",
    "sns.factorplot(y=\"IsActiveMember\", data = data, kind = \"count\", size = 2, aspect = 3)"
   ]
  },
  {
   "cell_type": "code",
   "execution_count": 13,
   "metadata": {},
   "outputs": [
    {
     "name": "stderr",
     "output_type": "stream",
     "text": [
      "C:\\Users\\cvveljanovski\\AppData\\Local\\Continuum\\anaconda3\\lib\\site-packages\\seaborn\\categorical.py:3704: UserWarning: The `factorplot` function has been renamed to `catplot`. The original name will be removed in a future release. Please update your code. Note that the default `kind` in `factorplot` (`'point'`) has changed `'strip'` in `catplot`.\n",
      "  warnings.warn(msg)\n",
      "C:\\Users\\cvveljanovski\\AppData\\Local\\Continuum\\anaconda3\\lib\\site-packages\\seaborn\\categorical.py:3710: UserWarning: The `size` parameter has been renamed to `height`; please update your code.\n",
      "  warnings.warn(msg, UserWarning)\n"
     ]
    },
    {
     "data": {
      "text/plain": [
       "<seaborn.axisgrid.FacetGrid at 0x260add0a438>"
      ]
     },
     "execution_count": 13,
     "metadata": {},
     "output_type": "execute_result"
    },
    {
     "data": {
      "image/png": "[encoded data removed]",
      "text/plain": [
       "<Figure size 432x144 with 1 Axes>"
      ]
     },
     "metadata": {
      "needs_background": "light"
     },
     "output_type": "display_data"
    }
   ],
   "source": [
    "# Distribution of customers by Exited the bank\n",
    "sns.factorplot(y=\"Exited\", data = data, kind = \"count\", size = 2, aspect = 3)"
   ]
  },
  {
   "cell_type": "code",
   "execution_count": 14,
   "metadata": {},
   "outputs": [
    {
     "data": {
      "text/plain": [
       "<AxesSubplot:>"
      ]
     },
     "execution_count": 14,
     "metadata": {},
     "output_type": "execute_result"
    },
    {
     "data": {
      "image/png": "[encoded data removed]",
      "text/plain": [
       "<Figure size 720x720 with 2 Axes>"
      ]
     },
     "metadata": {
      "needs_background": "light"
     },
     "output_type": "display_data"
    }
   ],
   "source": [
    "# Lets see the correlation among the different features\n",
    "cor_mat=data[:].corr()\n",
    "mask = np.array(cor_mat)\n",
    "mask[np.tril_indices_from(mask)]=False\n",
    "fig=plt.gcf()\n",
    "fig.set_size_inches(10,10)\n",
    "sns.heatmap(data=cor_mat, mask=mask, square=True, annot=True, cbar=True)"
   ]
  },
  {
   "cell_type": "markdown",
   "metadata": {},
   "source": [
    "# Feature engineering"
   ]
  },
  {
   "cell_type": "code",
   "execution_count": 16,
   "metadata": {},
   "outputs": [
    {
     "data": {
      "text/html": [
       "<div>\n",
       "<style scoped>\n",
       "    .dataframe tbody tr th:only-of-type {\n",
       "        vertical-align: middle;\n",
       "    }\n",
       "\n",
       "    .dataframe tbody tr th {\n",
       "        vertical-align: top;\n",
       "    }\n",
       "\n",
       "    .dataframe thead th {\n",
       "        text-align: right;\n",
       "    }\n",
       "</style>\n",
       "<table border=\"1\" class=\"dataframe\">\n",
       "  <thead>\n",
       "    <tr style=\"text-align: right;\">\n",
       "      <th></th>\n",
       "      <th>Geography</th>\n",
       "      <th>Gender</th>\n",
       "    </tr>\n",
       "  </thead>\n",
       "  <tbody>\n",
       "    <tr>\n",
       "      <td>0</td>\n",
       "      <td>France</td>\n",
       "      <td>Female</td>\n",
       "    </tr>\n",
       "    <tr>\n",
       "      <td>1</td>\n",
       "      <td>Spain</td>\n",
       "      <td>Female</td>\n",
       "    </tr>\n",
       "    <tr>\n",
       "      <td>2</td>\n",
       "      <td>France</td>\n",
       "      <td>Female</td>\n",
       "    </tr>\n",
       "    <tr>\n",
       "      <td>3</td>\n",
       "      <td>France</td>\n",
       "      <td>Female</td>\n",
       "    </tr>\n",
       "    <tr>\n",
       "      <td>4</td>\n",
       "      <td>Spain</td>\n",
       "      <td>Female</td>\n",
       "    </tr>\n",
       "  </tbody>\n",
       "</table>\n",
       "</div>"
      ],
      "text/plain": [
       "  Geography  Gender\n",
       "0    France  Female\n",
       "1     Spain  Female\n",
       "2    France  Female\n",
       "3    France  Female\n",
       "4     Spain  Female"
      ]
     },
     "execution_count": 16,
     "metadata": {},
     "output_type": "execute_result"
    }
   ],
   "source": [
    "#Which are the categorical features\n",
    "cat = data.select_dtypes(include=[\"object\"])\n",
    "cat.head()"
   ]
  },
  {
   "cell_type": "code",
   "execution_count": 17,
   "metadata": {},
   "outputs": [],
   "source": [
    "# One hot encoding on the categorical features\n",
    "cat_encoded = pd.get_dummies(cat)"
   ]
  },
  {
   "cell_type": "code",
   "execution_count": 18,
   "metadata": {},
   "outputs": [
    {
     "data": {
      "text/html": [
       "<div>\n",
       "<style scoped>\n",
       "    .dataframe tbody tr th:only-of-type {\n",
       "        vertical-align: middle;\n",
       "    }\n",
       "\n",
       "    .dataframe tbody tr th {\n",
       "        vertical-align: top;\n",
       "    }\n",
       "\n",
       "    .dataframe thead th {\n",
       "        text-align: right;\n",
       "    }\n",
       "</style>\n",
       "<table border=\"1\" class=\"dataframe\">\n",
       "  <thead>\n",
       "    <tr style=\"text-align: right;\">\n",
       "      <th></th>\n",
       "      <th>CreditScore</th>\n",
       "      <th>Age</th>\n",
       "      <th>Tenure</th>\n",
       "      <th>Balance</th>\n",
       "      <th>NumOfProducts</th>\n",
       "      <th>HasCrCard</th>\n",
       "      <th>IsActiveMember</th>\n",
       "      <th>EstimatedSalary</th>\n",
       "      <th>Exited</th>\n",
       "      <th>Geography_France</th>\n",
       "      <th>Geography_Germany</th>\n",
       "      <th>Geography_Spain</th>\n",
       "      <th>Gender_Female</th>\n",
       "      <th>Gender_Male</th>\n",
       "    </tr>\n",
       "  </thead>\n",
       "  <tbody>\n",
       "    <tr>\n",
       "      <td>0</td>\n",
       "      <td>619</td>\n",
       "      <td>42</td>\n",
       "      <td>2</td>\n",
       "      <td>0.00</td>\n",
       "      <td>1</td>\n",
       "      <td>1</td>\n",
       "      <td>1</td>\n",
       "      <td>101348.88</td>\n",
       "      <td>1</td>\n",
       "      <td>1</td>\n",
       "      <td>0</td>\n",
       "      <td>0</td>\n",
       "      <td>1</td>\n",
       "      <td>0</td>\n",
       "    </tr>\n",
       "    <tr>\n",
       "      <td>1</td>\n",
       "      <td>608</td>\n",
       "      <td>41</td>\n",
       "      <td>1</td>\n",
       "      <td>83807.86</td>\n",
       "      <td>1</td>\n",
       "      <td>0</td>\n",
       "      <td>1</td>\n",
       "      <td>112542.58</td>\n",
       "      <td>0</td>\n",
       "      <td>0</td>\n",
       "      <td>0</td>\n",
       "      <td>1</td>\n",
       "      <td>1</td>\n",
       "      <td>0</td>\n",
       "    </tr>\n",
       "    <tr>\n",
       "      <td>2</td>\n",
       "      <td>502</td>\n",
       "      <td>42</td>\n",
       "      <td>8</td>\n",
       "      <td>159660.80</td>\n",
       "      <td>3</td>\n",
       "      <td>1</td>\n",
       "      <td>0</td>\n",
       "      <td>113931.57</td>\n",
       "      <td>1</td>\n",
       "      <td>1</td>\n",
       "      <td>0</td>\n",
       "      <td>0</td>\n",
       "      <td>1</td>\n",
       "      <td>0</td>\n",
       "    </tr>\n",
       "    <tr>\n",
       "      <td>3</td>\n",
       "      <td>699</td>\n",
       "      <td>39</td>\n",
       "      <td>1</td>\n",
       "      <td>0.00</td>\n",
       "      <td>2</td>\n",
       "      <td>0</td>\n",
       "      <td>0</td>\n",
       "      <td>93826.63</td>\n",
       "      <td>0</td>\n",
       "      <td>1</td>\n",
       "      <td>0</td>\n",
       "      <td>0</td>\n",
       "      <td>1</td>\n",
       "      <td>0</td>\n",
       "    </tr>\n",
       "    <tr>\n",
       "      <td>4</td>\n",
       "      <td>850</td>\n",
       "      <td>43</td>\n",
       "      <td>2</td>\n",
       "      <td>125510.82</td>\n",
       "      <td>1</td>\n",
       "      <td>1</td>\n",
       "      <td>1</td>\n",
       "      <td>79084.10</td>\n",
       "      <td>0</td>\n",
       "      <td>0</td>\n",
       "      <td>0</td>\n",
       "      <td>1</td>\n",
       "      <td>1</td>\n",
       "      <td>0</td>\n",
       "    </tr>\n",
       "  </tbody>\n",
       "</table>\n",
       "</div>"
      ],
      "text/plain": [
       "   CreditScore  Age  Tenure    Balance  NumOfProducts  HasCrCard  \\\n",
       "0          619   42       2       0.00              1          1   \n",
       "1          608   41       1   83807.86              1          0   \n",
       "2          502   42       8  159660.80              3          1   \n",
       "3          699   39       1       0.00              2          0   \n",
       "4          850   43       2  125510.82              1          1   \n",
       "\n",
       "   IsActiveMember  EstimatedSalary  Exited  Geography_France  \\\n",
       "0               1        101348.88       1                 1   \n",
       "1               1        112542.58       0                 0   \n",
       "2               0        113931.57       1                 1   \n",
       "3               0         93826.63       0                 1   \n",
       "4               1         79084.10       0                 0   \n",
       "\n",
       "   Geography_Germany  Geography_Spain  Gender_Female  Gender_Male  \n",
       "0                  0                0              1            0  \n",
       "1                  0                1              1            0  \n",
       "2                  0                0              1            0  \n",
       "3                  0                0              1            0  \n",
       "4                  0                1              1            0  "
      ]
     },
     "execution_count": 18,
     "metadata": {},
     "output_type": "execute_result"
    }
   ],
   "source": [
    "# Now lets collect the data in one dataframe\n",
    "df=pd.concat([data,cat_encoded],axis=1)\n",
    "# Drop the features that we have performed one hot encoding on\n",
    "df.drop([\"Geography\",\"Gender\"],inplace=True,axis=1)\n",
    "df.head()"
   ]
  },
  {
   "cell_type": "markdown",
   "metadata": {},
   "source": [
    "# Now we will split the original dataframe in dataframe with independent features and df with dependent feature"
   ]
  },
  {
   "cell_type": "code",
   "execution_count": 19,
   "metadata": {},
   "outputs": [
    {
     "data": {
      "text/plain": [
       "0    1\n",
       "1    0\n",
       "2    1\n",
       "3    0\n",
       "4    0\n",
       "Name: Exited, dtype: int64"
      ]
     },
     "execution_count": 19,
     "metadata": {},
     "output_type": "execute_result"
    }
   ],
   "source": [
    "# Goal is to predict if a customer will exit the bank or not\n",
    "Y = df.Exited\n",
    "Y.head()"
   ]
  },
  {
   "cell_type": "code",
   "execution_count": 20,
   "metadata": {},
   "outputs": [
    {
     "data": {
      "text/html": [
       "<div>\n",
       "<style scoped>\n",
       "    .dataframe tbody tr th:only-of-type {\n",
       "        vertical-align: middle;\n",
       "    }\n",
       "\n",
       "    .dataframe tbody tr th {\n",
       "        vertical-align: top;\n",
       "    }\n",
       "\n",
       "    .dataframe thead th {\n",
       "        text-align: right;\n",
       "    }\n",
       "</style>\n",
       "<table border=\"1\" class=\"dataframe\">\n",
       "  <thead>\n",
       "    <tr style=\"text-align: right;\">\n",
       "      <th></th>\n",
       "      <th>CreditScore</th>\n",
       "      <th>Age</th>\n",
       "      <th>Tenure</th>\n",
       "      <th>Balance</th>\n",
       "      <th>NumOfProducts</th>\n",
       "      <th>HasCrCard</th>\n",
       "      <th>IsActiveMember</th>\n",
       "      <th>EstimatedSalary</th>\n",
       "      <th>Geography_France</th>\n",
       "      <th>Geography_Germany</th>\n",
       "      <th>Geography_Spain</th>\n",
       "      <th>Gender_Female</th>\n",
       "      <th>Gender_Male</th>\n",
       "    </tr>\n",
       "  </thead>\n",
       "  <tbody>\n",
       "    <tr>\n",
       "      <td>0</td>\n",
       "      <td>619</td>\n",
       "      <td>42</td>\n",
       "      <td>2</td>\n",
       "      <td>0.00</td>\n",
       "      <td>1</td>\n",
       "      <td>1</td>\n",
       "      <td>1</td>\n",
       "      <td>101348.88</td>\n",
       "      <td>1</td>\n",
       "      <td>0</td>\n",
       "      <td>0</td>\n",
       "      <td>1</td>\n",
       "      <td>0</td>\n",
       "    </tr>\n",
       "    <tr>\n",
       "      <td>1</td>\n",
       "      <td>608</td>\n",
       "      <td>41</td>\n",
       "      <td>1</td>\n",
       "      <td>83807.86</td>\n",
       "      <td>1</td>\n",
       "      <td>0</td>\n",
       "      <td>1</td>\n",
       "      <td>112542.58</td>\n",
       "      <td>0</td>\n",
       "      <td>0</td>\n",
       "      <td>1</td>\n",
       "      <td>1</td>\n",
       "      <td>0</td>\n",
       "    </tr>\n",
       "    <tr>\n",
       "      <td>2</td>\n",
       "      <td>502</td>\n",
       "      <td>42</td>\n",
       "      <td>8</td>\n",
       "      <td>159660.80</td>\n",
       "      <td>3</td>\n",
       "      <td>1</td>\n",
       "      <td>0</td>\n",
       "      <td>113931.57</td>\n",
       "      <td>1</td>\n",
       "      <td>0</td>\n",
       "      <td>0</td>\n",
       "      <td>1</td>\n",
       "      <td>0</td>\n",
       "    </tr>\n",
       "    <tr>\n",
       "      <td>3</td>\n",
       "      <td>699</td>\n",
       "      <td>39</td>\n",
       "      <td>1</td>\n",
       "      <td>0.00</td>\n",
       "      <td>2</td>\n",
       "      <td>0</td>\n",
       "      <td>0</td>\n",
       "      <td>93826.63</td>\n",
       "      <td>1</td>\n",
       "      <td>0</td>\n",
       "      <td>0</td>\n",
       "      <td>1</td>\n",
       "      <td>0</td>\n",
       "    </tr>\n",
       "    <tr>\n",
       "      <td>4</td>\n",
       "      <td>850</td>\n",
       "      <td>43</td>\n",
       "      <td>2</td>\n",
       "      <td>125510.82</td>\n",
       "      <td>1</td>\n",
       "      <td>1</td>\n",
       "      <td>1</td>\n",
       "      <td>79084.10</td>\n",
       "      <td>0</td>\n",
       "      <td>0</td>\n",
       "      <td>1</td>\n",
       "      <td>1</td>\n",
       "      <td>0</td>\n",
       "    </tr>\n",
       "  </tbody>\n",
       "</table>\n",
       "</div>"
      ],
      "text/plain": [
       "   CreditScore  Age  Tenure    Balance  NumOfProducts  HasCrCard  \\\n",
       "0          619   42       2       0.00              1          1   \n",
       "1          608   41       1   83807.86              1          0   \n",
       "2          502   42       8  159660.80              3          1   \n",
       "3          699   39       1       0.00              2          0   \n",
       "4          850   43       2  125510.82              1          1   \n",
       "\n",
       "   IsActiveMember  EstimatedSalary  Geography_France  Geography_Germany  \\\n",
       "0               1        101348.88                 1                  0   \n",
       "1               1        112542.58                 0                  0   \n",
       "2               0        113931.57                 1                  0   \n",
       "3               0         93826.63                 1                  0   \n",
       "4               1         79084.10                 0                  0   \n",
       "\n",
       "   Geography_Spain  Gender_Female  Gender_Male  \n",
       "0                0              1            0  \n",
       "1                1              1            0  \n",
       "2                0              1            0  \n",
       "3                0              1            0  \n",
       "4                1              1            0  "
      ]
     },
     "execution_count": 20,
     "metadata": {},
     "output_type": "execute_result"
    }
   ],
   "source": [
    "X = df.drop(\"Exited\",axis=1)\n",
    "X.head()"
   ]
  },
  {
   "cell_type": "markdown",
   "metadata": {},
   "source": [
    "# Split the data in train and test"
   ]
  },
  {
   "cell_type": "code",
   "execution_count": 21,
   "metadata": {},
   "outputs": [],
   "source": [
    "X_train, X_test, Y_train, Y_test = model_selection.train_test_split(X, Y, test_size=0.3, random_state=0)"
   ]
  },
  {
   "cell_type": "code",
   "execution_count": 22,
   "metadata": {},
   "outputs": [
    {
     "data": {
      "text/plain": [
       "[(7000, 13), (3000, 13), (7000,), (3000,)]"
      ]
     },
     "execution_count": 22,
     "metadata": {},
     "output_type": "execute_result"
    }
   ],
   "source": [
    "[X_train.shape, X_test.shape, Y_train.shape, Y_test.shape]"
   ]
  },
  {
   "cell_type": "code",
   "execution_count": 23,
   "metadata": {},
   "outputs": [],
   "source": [
    "#Feature Scaling\n",
    "sc = StandardScaler()\n",
    "X_train = sc.fit_transform(X_train)\n",
    "X_test = sc.transform(X_test)"
   ]
  },
  {
   "cell_type": "code",
   "execution_count": 40,
   "metadata": {},
   "outputs": [],
   "source": [
    "# Initialising the ANN\n",
    "classifier = Sequential()"
   ]
  },
  {
   "cell_type": "code",
   "execution_count": 54,
   "metadata": {
    "scrolled": true
   },
   "outputs": [],
   "source": [
    "# Adding the input layer and the first hidden layer\n",
    "classifier.add(Dense(6, activation='relu', kernel_initializer='he_uniform', input_dim=13))\n",
    "# We can add also dropout to prevent overfitting\n",
    "classifier.add(Dropout(0.1))"
   ]
  },
  {
   "cell_type": "code",
   "execution_count": 55,
   "metadata": {},
   "outputs": [],
   "source": [
    "# Adding the second hidden layer\n",
    "classifier.add(Dense(6, activation='relu', kernel_initializer='he_uniform'))\n",
    "# Adding dropout to prevent overfitting\n",
    "classifier.add(Dropout(0.1))"
   ]
  },
  {
   "cell_type": "code",
   "execution_count": 56,
   "metadata": {},
   "outputs": [],
   "source": [
    "# Adding the output layer (output_dim is 1 as we want only 1 output from the final layer.)\n",
    "classifier.add(Dense(1, activation='sigmoid', kernel_initializer='he_uniform'))"
   ]
  },
  {
   "cell_type": "code",
   "execution_count": 57,
   "metadata": {},
   "outputs": [],
   "source": [
    "# Compiling the ANN\n",
    "classifier.compile(optimizer='adam', loss='binary_crossentropy', metrics=['accuracy'])"
   ]
  },
  {
   "cell_type": "code",
   "execution_count": 58,
   "metadata": {},
   "outputs": [
    {
     "name": "stdout",
     "output_type": "stream",
     "text": [
      "Epoch 1/100\n",
      "469/469 [==============================] - 2s 4ms/step - loss: 0.5474 - accuracy: 0.8038 - val_loss: 0.4128 - val_accuracy: 0.8408\n",
      "Epoch 2/100\n",
      "469/469 [==============================] - 1s 3ms/step - loss: 0.4281 - accuracy: 0.8383 - val_loss: 0.3827 - val_accuracy: 0.8524\n",
      "Epoch 3/100\n",
      "469/469 [==============================] - 1s 3ms/step - loss: 0.3998 - accuracy: 0.8401 - val_loss: 0.3688 - val_accuracy: 0.8576\n",
      "Epoch 4/100\n",
      "469/469 [==============================] - 2s 3ms/step - loss: 0.3787 - accuracy: 0.8488 - val_loss: 0.3667 - val_accuracy: 0.8529\n",
      "Epoch 5/100\n",
      "469/469 [==============================] - 1s 3ms/step - loss: 0.3748 - accuracy: 0.8518 - val_loss: 0.3649 - val_accuracy: 0.8563\n",
      "Epoch 6/100\n",
      "469/469 [==============================] - 2s 3ms/step - loss: 0.3693 - accuracy: 0.8469 - val_loss: 0.3608 - val_accuracy: 0.8568\n",
      "Epoch 7/100\n",
      "469/469 [==============================] - 1s 3ms/step - loss: 0.3643 - accuracy: 0.8488 - val_loss: 0.3625 - val_accuracy: 0.8589\n",
      "Epoch 8/100\n",
      "469/469 [==============================] - 1s 3ms/step - loss: 0.3697 - accuracy: 0.8454 - val_loss: 0.3644 - val_accuracy: 0.8559\n",
      "Epoch 9/100\n",
      "469/469 [==============================] - 2s 3ms/step - loss: 0.3592 - accuracy: 0.8531 - val_loss: 0.3564 - val_accuracy: 0.8546\n",
      "Epoch 10/100\n",
      "469/469 [==============================] - 1s 3ms/step - loss: 0.3674 - accuracy: 0.8464 - val_loss: 0.3596 - val_accuracy: 0.8537\n",
      "Epoch 11/100\n",
      "469/469 [==============================] - 2s 3ms/step - loss: 0.3604 - accuracy: 0.8535 - val_loss: 0.3570 - val_accuracy: 0.8563\n",
      "Epoch 12/100\n",
      "469/469 [==============================] - 1s 3ms/step - loss: 0.3572 - accuracy: 0.8556 - val_loss: 0.3551 - val_accuracy: 0.8555\n",
      "Epoch 13/100\n",
      "469/469 [==============================] - 1s 3ms/step - loss: 0.3528 - accuracy: 0.8563 - val_loss: 0.3613 - val_accuracy: 0.8494\n",
      "Epoch 14/100\n",
      "469/469 [==============================] - 1s 3ms/step - loss: 0.3638 - accuracy: 0.8516 - val_loss: 0.3587 - val_accuracy: 0.8576\n",
      "Epoch 15/100\n",
      "469/469 [==============================] - 1s 3ms/step - loss: 0.3561 - accuracy: 0.8550 - val_loss: 0.3687 - val_accuracy: 0.8494\n",
      "Epoch 16/100\n",
      "469/469 [==============================] - 1s 3ms/step - loss: 0.3519 - accuracy: 0.8554 - val_loss: 0.3625 - val_accuracy: 0.8516\n",
      "Epoch 17/100\n",
      "469/469 [==============================] - 2s 3ms/step - loss: 0.3509 - accuracy: 0.8567 - val_loss: 0.3566 - val_accuracy: 0.8537\n",
      "Epoch 18/100\n",
      "469/469 [==============================] - 1s 3ms/step - loss: 0.3514 - accuracy: 0.8565 - val_loss: 0.3668 - val_accuracy: 0.8503\n",
      "Epoch 19/100\n",
      "469/469 [==============================] - 1s 3ms/step - loss: 0.3515 - accuracy: 0.8605 - val_loss: 0.3593 - val_accuracy: 0.8529\n",
      "Epoch 20/100\n",
      "469/469 [==============================] - 1s 3ms/step - loss: 0.3523 - accuracy: 0.8578 - val_loss: 0.3604 - val_accuracy: 0.8511\n",
      "Epoch 21/100\n",
      "469/469 [==============================] - 2s 4ms/step - loss: 0.3557 - accuracy: 0.8614 - val_loss: 0.3557 - val_accuracy: 0.8576\n",
      "Epoch 22/100\n",
      "469/469 [==============================] - 2s 4ms/step - loss: 0.3561 - accuracy: 0.8554 - val_loss: 0.3570 - val_accuracy: 0.8563\n",
      "Epoch 23/100\n",
      "469/469 [==============================] - 1s 3ms/step - loss: 0.3556 - accuracy: 0.8582 - val_loss: 0.3586 - val_accuracy: 0.8542\n",
      "Epoch 24/100\n",
      "469/469 [==============================] - 2s 3ms/step - loss: 0.3529 - accuracy: 0.8571 - val_loss: 0.3589 - val_accuracy: 0.8507\n",
      "Epoch 25/100\n",
      "469/469 [==============================] - 1s 3ms/step - loss: 0.3534 - accuracy: 0.8539 - val_loss: 0.3598 - val_accuracy: 0.8507\n",
      "Epoch 26/100\n",
      "469/469 [==============================] - 2s 3ms/step - loss: 0.3483 - accuracy: 0.8573 - val_loss: 0.3578 - val_accuracy: 0.8563\n",
      "Epoch 27/100\n",
      "469/469 [==============================] - 2s 3ms/step - loss: 0.3506 - accuracy: 0.8603 - val_loss: 0.3581 - val_accuracy: 0.8568\n",
      "Epoch 28/100\n",
      "469/469 [==============================] - 2s 3ms/step - loss: 0.3492 - accuracy: 0.8603 - val_loss: 0.3582 - val_accuracy: 0.8550\n",
      "Epoch 29/100\n",
      "469/469 [==============================] - 2s 3ms/step - loss: 0.3491 - accuracy: 0.8588 - val_loss: 0.3565 - val_accuracy: 0.8524\n",
      "Epoch 30/100\n",
      "469/469 [==============================] - 2s 3ms/step - loss: 0.3507 - accuracy: 0.8533 - val_loss: 0.3538 - val_accuracy: 0.8568\n",
      "Epoch 31/100\n",
      "469/469 [==============================] - 2s 3ms/step - loss: 0.3450 - accuracy: 0.8575 - val_loss: 0.3577 - val_accuracy: 0.8563\n",
      "Epoch 32/100\n",
      "469/469 [==============================] - 2s 3ms/step - loss: 0.3493 - accuracy: 0.8533 - val_loss: 0.3632 - val_accuracy: 0.8503\n",
      "Epoch 33/100\n",
      "469/469 [==============================] - 2s 3ms/step - loss: 0.3422 - accuracy: 0.8612 - val_loss: 0.3640 - val_accuracy: 0.8511\n",
      "Epoch 34/100\n",
      "469/469 [==============================] - 2s 3ms/step - loss: 0.3484 - accuracy: 0.8599 - val_loss: 0.3622 - val_accuracy: 0.8486\n",
      "Epoch 35/100\n",
      "469/469 [==============================] - 2s 3ms/step - loss: 0.3467 - accuracy: 0.8560 - val_loss: 0.3604 - val_accuracy: 0.8498\n",
      "Epoch 36/100\n",
      "469/469 [==============================] - 2s 3ms/step - loss: 0.3419 - accuracy: 0.8580 - val_loss: 0.3545 - val_accuracy: 0.8572\n",
      "Epoch 37/100\n",
      "469/469 [==============================] - 1s 3ms/step - loss: 0.3500 - accuracy: 0.8543 - val_loss: 0.3627 - val_accuracy: 0.8486\n",
      "Epoch 38/100\n",
      "469/469 [==============================] - 1s 3ms/step - loss: 0.3471 - accuracy: 0.8595 - val_loss: 0.3744 - val_accuracy: 0.8473\n",
      "Epoch 39/100\n",
      "469/469 [==============================] - 1s 3ms/step - loss: 0.3422 - accuracy: 0.8633 - val_loss: 0.3567 - val_accuracy: 0.8533\n",
      "Epoch 40/100\n",
      "469/469 [==============================] - 1s 3ms/step - loss: 0.3456 - accuracy: 0.8610 - val_loss: 0.3627 - val_accuracy: 0.8516\n",
      "Epoch 41/100\n",
      "469/469 [==============================] - 2s 3ms/step - loss: 0.3401 - accuracy: 0.8610 - val_loss: 0.3575 - val_accuracy: 0.8542\n",
      "Epoch 42/100\n",
      "469/469 [==============================] - 2s 3ms/step - loss: 0.3455 - accuracy: 0.8592 - val_loss: 0.3589 - val_accuracy: 0.8503\n",
      "Epoch 43/100\n",
      "469/469 [==============================] - 2s 3ms/step - loss: 0.3434 - accuracy: 0.8590 - val_loss: 0.3565 - val_accuracy: 0.8550\n",
      "Epoch 44/100\n",
      "469/469 [==============================] - 2s 3ms/step - loss: 0.3448 - accuracy: 0.8614 - val_loss: 0.3643 - val_accuracy: 0.8460\n",
      "Epoch 45/100\n",
      "469/469 [==============================] - 2s 3ms/step - loss: 0.3449 - accuracy: 0.8573 - val_loss: 0.3578 - val_accuracy: 0.8511\n",
      "Epoch 46/100\n",
      "469/469 [==============================] - 2s 3ms/step - loss: 0.3465 - accuracy: 0.8584 - val_loss: 0.3578 - val_accuracy: 0.8546\n",
      "Epoch 47/100\n",
      "469/469 [==============================] - 2s 3ms/step - loss: 0.3436 - accuracy: 0.8592 - val_loss: 0.3634 - val_accuracy: 0.8494\n",
      "Epoch 48/100\n",
      "469/469 [==============================] - 2s 3ms/step - loss: 0.3442 - accuracy: 0.8595 - val_loss: 0.3582 - val_accuracy: 0.8568\n",
      "Epoch 49/100\n",
      "469/469 [==============================] - 2s 3ms/step - loss: 0.3461 - accuracy: 0.8597 - val_loss: 0.3642 - val_accuracy: 0.8511\n",
      "Epoch 50/100\n",
      "469/469 [==============================] - 2s 4ms/step - loss: 0.3458 - accuracy: 0.8586 - val_loss: 0.3675 - val_accuracy: 0.8503\n",
      "Epoch 51/100\n",
      "469/469 [==============================] - 2s 4ms/step - loss: 0.3426 - accuracy: 0.8637 - val_loss: 0.3541 - val_accuracy: 0.8568\n",
      "Epoch 52/100\n",
      "469/469 [==============================] - 2s 3ms/step - loss: 0.3425 - accuracy: 0.8648 - val_loss: 0.3642 - val_accuracy: 0.8503\n",
      "Epoch 53/100\n",
      "469/469 [==============================] - 2s 3ms/step - loss: 0.3406 - accuracy: 0.8584 - val_loss: 0.3551 - val_accuracy: 0.8598\n",
      "Epoch 54/100\n",
      "469/469 [==============================] - 2s 3ms/step - loss: 0.3421 - accuracy: 0.8610 - val_loss: 0.3589 - val_accuracy: 0.8602\n",
      "Epoch 55/100\n",
      "469/469 [==============================] - 2s 3ms/step - loss: 0.3393 - accuracy: 0.8635 - val_loss: 0.3579 - val_accuracy: 0.8507\n",
      "Epoch 56/100\n",
      "469/469 [==============================] - 2s 4ms/step - loss: 0.3376 - accuracy: 0.8580 - val_loss: 0.3615 - val_accuracy: 0.8498\n",
      "Epoch 57/100\n",
      "469/469 [==============================] - 2s 3ms/step - loss: 0.3432 - accuracy: 0.8573 - val_loss: 0.3634 - val_accuracy: 0.8533\n",
      "Epoch 58/100\n",
      "469/469 [==============================] - 1s 3ms/step - loss: 0.3427 - accuracy: 0.8592 - val_loss: 0.3596 - val_accuracy: 0.8486\n",
      "Epoch 59/100\n",
      "469/469 [==============================] - 1s 3ms/step - loss: 0.3411 - accuracy: 0.8627 - val_loss: 0.3550 - val_accuracy: 0.8568\n",
      "Epoch 60/100\n",
      "469/469 [==============================] - 2s 4ms/step - loss: 0.3434 - accuracy: 0.8560 - val_loss: 0.3669 - val_accuracy: 0.8486\n",
      "Epoch 61/100\n",
      "469/469 [==============================] - 2s 3ms/step - loss: 0.3416 - accuracy: 0.8580 - val_loss: 0.3662 - val_accuracy: 0.8477\n",
      "Epoch 62/100\n",
      "469/469 [==============================] - 2s 3ms/step - loss: 0.3391 - accuracy: 0.8592 - val_loss: 0.3591 - val_accuracy: 0.8524\n",
      "Epoch 63/100\n",
      "469/469 [==============================] - 1s 3ms/step - loss: 0.3417 - accuracy: 0.8620 - val_loss: 0.3647 - val_accuracy: 0.8481\n",
      "Epoch 64/100\n",
      "469/469 [==============================] - 1s 3ms/step - loss: 0.3402 - accuracy: 0.8578 - val_loss: 0.3600 - val_accuracy: 0.8533\n",
      "Epoch 65/100\n",
      "469/469 [==============================] - 1s 3ms/step - loss: 0.3384 - accuracy: 0.8595 - val_loss: 0.3630 - val_accuracy: 0.8585\n",
      "Epoch 66/100\n",
      "469/469 [==============================] - 2s 3ms/step - loss: 0.3401 - accuracy: 0.8599 - val_loss: 0.3631 - val_accuracy: 0.8494\n",
      "Epoch 67/100\n",
      "469/469 [==============================] - 1s 3ms/step - loss: 0.3422 - accuracy: 0.8603 - val_loss: 0.3602 - val_accuracy: 0.8537\n",
      "Epoch 68/100\n",
      "469/469 [==============================] - 1s 3ms/step - loss: 0.3391 - accuracy: 0.8629 - val_loss: 0.3648 - val_accuracy: 0.8537\n",
      "Epoch 69/100\n",
      "469/469 [==============================] - 1s 3ms/step - loss: 0.3391 - accuracy: 0.8582 - val_loss: 0.3640 - val_accuracy: 0.8516\n",
      "Epoch 70/100\n",
      "469/469 [==============================] - 1s 3ms/step - loss: 0.3404 - accuracy: 0.8580 - val_loss: 0.3647 - val_accuracy: 0.8498\n",
      "Epoch 71/100\n",
      "469/469 [==============================] - 1s 3ms/step - loss: 0.3388 - accuracy: 0.8616 - val_loss: 0.3688 - val_accuracy: 0.8486\n",
      "Epoch 72/100\n",
      "469/469 [==============================] - 1s 3ms/step - loss: 0.3418 - accuracy: 0.8618 - val_loss: 0.3689 - val_accuracy: 0.8468\n",
      "Epoch 73/100\n",
      "469/469 [==============================] - 1s 3ms/step - loss: 0.3349 - accuracy: 0.8642 - val_loss: 0.3670 - val_accuracy: 0.8520\n",
      "Epoch 74/100\n",
      "469/469 [==============================] - 1s 3ms/step - loss: 0.3366 - accuracy: 0.8624 - val_loss: 0.3634 - val_accuracy: 0.8511\n",
      "Epoch 75/100\n",
      "469/469 [==============================] - 1s 3ms/step - loss: 0.3380 - accuracy: 0.8599 - val_loss: 0.3596 - val_accuracy: 0.8576\n",
      "Epoch 76/100\n",
      "469/469 [==============================] - 2s 4ms/step - loss: 0.3385 - accuracy: 0.8644 - val_loss: 0.3585 - val_accuracy: 0.8559\n",
      "Epoch 77/100\n",
      "469/469 [==============================] - 2s 3ms/step - loss: 0.3402 - accuracy: 0.8588 - val_loss: 0.3562 - val_accuracy: 0.8594\n",
      "Epoch 78/100\n",
      "469/469 [==============================] - 1s 3ms/step - loss: 0.3383 - accuracy: 0.8616 - val_loss: 0.3656 - val_accuracy: 0.8481\n",
      "Epoch 79/100\n",
      "469/469 [==============================] - 2s 4ms/step - loss: 0.3379 - accuracy: 0.8620 - val_loss: 0.3592 - val_accuracy: 0.8550\n",
      "Epoch 80/100\n",
      "469/469 [==============================] - 2s 5ms/step - loss: 0.3416 - accuracy: 0.8582 - val_loss: 0.3741 - val_accuracy: 0.8460\n",
      "Epoch 81/100\n",
      "469/469 [==============================] - 2s 4ms/step - loss: 0.3377 - accuracy: 0.8629 - val_loss: 0.3587 - val_accuracy: 0.8585\n",
      "Epoch 82/100\n",
      "469/469 [==============================] - 2s 4ms/step - loss: 0.3360 - accuracy: 0.8618 - val_loss: 0.3568 - val_accuracy: 0.8585\n",
      "Epoch 83/100\n",
      "469/469 [==============================] - 2s 4ms/step - loss: 0.3385 - accuracy: 0.8631 - val_loss: 0.3563 - val_accuracy: 0.8611\n",
      "Epoch 84/100\n",
      "469/469 [==============================] - 2s 3ms/step - loss: 0.3351 - accuracy: 0.8637 - val_loss: 0.3613 - val_accuracy: 0.8581\n",
      "Epoch 85/100\n",
      "469/469 [==============================] - 2s 4ms/step - loss: 0.3377 - accuracy: 0.8607 - val_loss: 0.3605 - val_accuracy: 0.8533\n",
      "Epoch 86/100\n",
      "469/469 [==============================] - 2s 4ms/step - loss: 0.3408 - accuracy: 0.8584 - val_loss: 0.3597 - val_accuracy: 0.8533\n",
      "Epoch 87/100\n",
      "469/469 [==============================] - 2s 4ms/step - loss: 0.3411 - accuracy: 0.8622 - val_loss: 0.3579 - val_accuracy: 0.8550\n",
      "Epoch 88/100\n",
      "469/469 [==============================] - 2s 4ms/step - loss: 0.3319 - accuracy: 0.8629 - val_loss: 0.3564 - val_accuracy: 0.8572\n",
      "Epoch 89/100\n",
      "469/469 [==============================] - 2s 3ms/step - loss: 0.3385 - accuracy: 0.8582 - val_loss: 0.3604 - val_accuracy: 0.8572\n",
      "Epoch 90/100\n",
      "469/469 [==============================] - 2s 4ms/step - loss: 0.3361 - accuracy: 0.8573 - val_loss: 0.3674 - val_accuracy: 0.8473\n",
      "Epoch 91/100\n",
      "469/469 [==============================] - 2s 3ms/step - loss: 0.3401 - accuracy: 0.8599 - val_loss: 0.3611 - val_accuracy: 0.8520\n",
      "Epoch 92/100\n",
      "469/469 [==============================] - 2s 3ms/step - loss: 0.3404 - accuracy: 0.8575 - val_loss: 0.3617 - val_accuracy: 0.8546\n",
      "Epoch 93/100\n",
      "469/469 [==============================] - 2s 3ms/step - loss: 0.3386 - accuracy: 0.8650 - val_loss: 0.3696 - val_accuracy: 0.8460\n",
      "Epoch 94/100\n",
      "469/469 [==============================] - 2s 3ms/step - loss: 0.3391 - accuracy: 0.8607 - val_loss: 0.3604 - val_accuracy: 0.8537\n",
      "Epoch 95/100\n",
      "469/469 [==============================] - 2s 3ms/step - loss: 0.3353 - accuracy: 0.8597 - val_loss: 0.3687 - val_accuracy: 0.8498\n",
      "Epoch 96/100\n",
      "469/469 [==============================] - 1s 3ms/step - loss: 0.3373 - accuracy: 0.8580 - val_loss: 0.3745 - val_accuracy: 0.8434\n",
      "Epoch 97/100\n",
      "469/469 [==============================] - 2s 4ms/step - loss: 0.3364 - accuracy: 0.8627 - val_loss: 0.3707 - val_accuracy: 0.8516\n",
      "Epoch 98/100\n",
      "469/469 [==============================] - 2s 3ms/step - loss: 0.3416 - accuracy: 0.8588 - val_loss: 0.3683 - val_accuracy: 0.8494\n",
      "Epoch 99/100\n",
      "469/469 [==============================] - 2s 3ms/step - loss: 0.3359 - accuracy: 0.8610 - val_loss: 0.3682 - val_accuracy: 0.8507\n",
      "Epoch 100/100\n",
      "469/469 [==============================] - 2s 3ms/step - loss: 0.3385 - accuracy: 0.8622 - val_loss: 0.3573 - val_accuracy: 0.8572\n"
     ]
    }
   ],
   "source": [
    "# Fitting the ANN to the Training set\n",
    "model_history = classifier.fit(X_train, Y_train, validation_split = 0.33, batch_size=10, epochs=100)"
   ]
  },
  {
   "cell_type": "code",
   "execution_count": 59,
   "metadata": {},
   "outputs": [
    {
     "name": "stdout",
     "output_type": "stream",
     "text": [
      "dict_keys(['loss', 'accuracy', 'val_loss', 'val_accuracy'])\n"
     ]
    }
   ],
   "source": [
    "print(model_history.history.keys())"
   ]
  },
  {
   "cell_type": "code",
   "execution_count": 62,
   "metadata": {},
   "outputs": [
    {
     "data": {
      "image/png": "[encoded data removed]",
      "text/plain": [
       "<Figure size 432x288 with 1 Axes>"
      ]
     },
     "metadata": {
      "needs_background": "light"
     },
     "output_type": "display_data"
    }
   ],
   "source": [
    "plt.plot(model_history.history['accuracy'])\n",
    "plt.plot(model_history.history['val_accuracy'])\n",
    "plt.xlabel(\"epoch\")\n",
    "plt.ylabel(\"accuracy\")\n",
    "plt.legend(['train','test'], loc = 'upper left')\n",
    "plt.show()"
   ]
  },
  {
   "cell_type": "code",
   "execution_count": null,
   "metadata": {},
   "outputs": [],
   "source": []
  }
 ],
 "metadata": {
  "kernelspec": {
   "display_name": "Python 3",
   "language": "python",
   "name": "python3"
  },
  "language_info": {
   "codemirror_mode": {
    "name": "ipython",
    "version": 3
   },
   "file_extension": ".py",
   "mimetype": "text/x-python",
   "name": "python",
   "nbconvert_exporter": "python",
   "pygments_lexer": "ipython3",
   "version": "3.7.1"
  }
 },
 "nbformat": 4,
 "nbformat_minor": 2
}
